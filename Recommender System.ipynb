{
 "cells": [
  {
   "cell_type": "code",
   "execution_count": 1,
   "metadata": {},
   "outputs": [],
   "source": [
    "import pandas as pd\n",
    "\n"
   ]
  },
  {
   "cell_type": "code",
   "execution_count": 27,
   "metadata": {},
   "outputs": [
    {
     "name": "stdout",
     "output_type": "stream",
     "text": [
      "Number of Games: 3600\n",
      "Number of Users: 11350\n"
     ]
    }
   ],
   "source": [
    "# Load Data\n",
    "\n",
    "data = pd.read_csv('steam-200k.csv', names=['User ID', 'Game Name', 'Behaviour', 'Hours', '0'], usecols=[0,1,2,3])\n",
    "\n",
    "# Filter only play time\n",
    "\n",
    "data_play = data[data['Behaviour']=='play']\n",
    "\n",
    "# Construct R matrix\n",
    "\n",
    "n_games = data_play[\"Game Name\"].nunique()\n",
    "print(\"Number of Games: %s\" % n_games)\n",
    "\n",
    "n_users = data_play[\"User ID\"].nunique()\n",
    "print(\"Number of Users: %s\" % n_users)\n",
    "\n"
   ]
  },
  {
   "cell_type": "code",
   "execution_count": null,
   "metadata": {},
   "outputs": [],
   "source": []
  },
  {
   "cell_type": "code",
   "execution_count": null,
   "metadata": {},
   "outputs": [],
   "source": []
  },
  {
   "cell_type": "code",
   "execution_count": null,
   "metadata": {},
   "outputs": [],
   "source": []
  }
 ],
 "metadata": {
  "kernelspec": {
   "display_name": "Python 3",
   "language": "python",
   "name": "python3"
  },
  "language_info": {
   "codemirror_mode": {
    "name": "ipython",
    "version": 3
   },
   "file_extension": ".py",
   "mimetype": "text/x-python",
   "name": "python",
   "nbconvert_exporter": "python",
   "pygments_lexer": "ipython3",
   "version": "3.6.8"
  }
 },
 "nbformat": 4,
 "nbformat_minor": 2
}
